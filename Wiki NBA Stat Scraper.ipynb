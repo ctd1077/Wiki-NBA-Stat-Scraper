{
 "cells": [
  {
   "cell_type": "markdown",
   "metadata": {},
   "source": [
    "# Wiki NBA Stat Scraper"
   ]
  },
  {
   "cell_type": "code",
   "execution_count": 1,
   "metadata": {},
   "outputs": [],
   "source": [
    "import requests\n",
    "from bs4 import BeautifulSoup\n",
    "import pandas as pd\n",
    "import numpy as np"
   ]
  },
  {
   "cell_type": "code",
   "execution_count": 2,
   "metadata": {},
   "outputs": [],
   "source": [
    "url = 'https://en.wikipedia.org/wiki/Michael_Jordan'"
   ]
  },
  {
   "cell_type": "code",
   "execution_count": null,
   "metadata": {},
   "outputs": [],
   "source": [
    "# Check to see if this works on other players\n",
    "# url = 'https://en.wikipedia.org/wiki/Kobe_Bryant'"
   ]
  },
  {
   "cell_type": "code",
   "execution_count": null,
   "metadata": {},
   "outputs": [],
   "source": [
    "# Some of the wiki pages for players have a different format to \n",
    "# scrape from. Use this line for pages like this:\n",
    "# url = 'https://en.wikipedia.org/wiki/Steve_Nash'\n",
    "# or\n",
    "# url = 'https://en.wikipedia.org/wiki/Shawn_Kemp'\n",
    "\n",
    "\n",
    "# Here is the line to use\n",
    "\n",
    "# Maybe write a try execpt for the different formats.\n",
    "\n",
    "\n",
    "# wikitable = soup.find('table', {'class':'wikitable'})"
   ]
  },
  {
   "cell_type": "code",
   "execution_count": 3,
   "metadata": {},
   "outputs": [],
   "source": [
    "r = requests.get(url)\n",
    "text = r.text\n",
    "soup = BeautifulSoup(text, 'html.parser')"
   ]
  },
  {
   "cell_type": "code",
   "execution_count": 4,
   "metadata": {},
   "outputs": [
    {
     "data": {
      "text/plain": [
       "200"
      ]
     },
     "execution_count": 4,
     "metadata": {},
     "output_type": "execute_result"
    }
   ],
   "source": [
    "# Check to make sure you have a connection to the website\n",
    "r.status_code"
   ]
  },
  {
   "cell_type": "code",
   "execution_count": null,
   "metadata": {},
   "outputs": [],
   "source": [
    "# Use prettify to get a good\n",
    "# look at the HTML\n",
    "# print(soup.prettify())"
   ]
  },
  {
   "cell_type": "code",
   "execution_count": 5,
   "metadata": {},
   "outputs": [],
   "source": [
    "# I'm using this method to create wikitable \n",
    "wikitable = soup.find('table', {'class':'wikitable sortable'})"
   ]
  },
  {
   "cell_type": "code",
   "execution_count": null,
   "metadata": {},
   "outputs": [],
   "source": [
    "# wikitable = soup.find('table', {'class':'wikitable'})"
   ]
  },
  {
   "cell_type": "code",
   "execution_count": 6,
   "metadata": {},
   "outputs": [],
   "source": [
    "# Find all 'th' and 'td'\n",
    "th = wikitable.find_all(['th'])\n",
    "td = wikitable.find_all(['td'])"
   ]
  },
  {
   "cell_type": "code",
   "execution_count": null,
   "metadata": {},
   "outputs": [],
   "source": [
    "# th # delete this later"
   ]
  },
  {
   "cell_type": "code",
   "execution_count": null,
   "metadata": {},
   "outputs": [],
   "source": [
    "# td # delete this later"
   ]
  },
  {
   "cell_type": "code",
   "execution_count": 7,
   "metadata": {},
   "outputs": [],
   "source": [
    "stat_header = []\n",
    "for col in th:\n",
    "    col = col.get_text()\n",
    "    col = col.rstrip()\n",
    "    stat_header.append(col)"
   ]
  },
  {
   "cell_type": "code",
   "execution_count": null,
   "metadata": {},
   "outputs": [],
   "source": [
    "# stat_header # delete this later"
   ]
  },
  {
   "cell_type": "code",
   "execution_count": 8,
   "metadata": {},
   "outputs": [],
   "source": [
    "stat = []\n",
    "for row in td:\n",
    "    row = row.get_text()\n",
    "    row = row.rstrip()\n",
    "    stat.append(row)"
   ]
  },
  {
   "cell_type": "code",
   "execution_count": 9,
   "metadata": {},
   "outputs": [],
   "source": [
    "# Drop the last two rows starting @ Career\n",
    "# These rows have a different shape \n",
    "# and will be a problem in merging the data\n",
    "x = True\n",
    "regular_season = []\n",
    "while x == True:\n",
    "    for s in stat:\n",
    "        if s != 'Career':\n",
    "            regular_season.append(s)\n",
    "            continue\n",
    "        else:\n",
    "            x = False\n",
    "            break"
   ]
  },
  {
   "cell_type": "code",
   "execution_count": 10,
   "metadata": {},
   "outputs": [],
   "source": [
    "# This line creates a list that matches \n",
    "# the lenght of the regular season stats\n",
    "header = stat_header * (len(regular_season)//len(stat_header))"
   ]
  },
  {
   "cell_type": "code",
   "execution_count": 11,
   "metadata": {},
   "outputs": [],
   "source": [
    "# Creates a list of tuples\n",
    "# Unpacked the to list into tuple to save data\n",
    "# Important to keep the header column and stat (key/value) pair connected\n",
    "result = list(zip(header, regular_season))"
   ]
  },
  {
   "cell_type": "code",
   "execution_count": null,
   "metadata": {},
   "outputs": [],
   "source": [
    "#result # delete later"
   ]
  },
  {
   "cell_type": "code",
   "execution_count": 12,
   "metadata": {},
   "outputs": [],
   "source": [
    "sYear = []\n",
    "sTeam = []\n",
    "sGP = []\n",
    "sGS = []\n",
    "sMPG = []\n",
    "sFG = []\n",
    "s3P = []\n",
    "sFT = []\n",
    "sRPG = []\n",
    "sAPG = []\n",
    "sSPG = []\n",
    "sBPG = []\n",
    "sPPG = []"
   ]
  },
  {
   "cell_type": "code",
   "execution_count": 13,
   "metadata": {},
   "outputs": [],
   "source": [
    "# loop through the results list of tuples \n",
    "# and add the stats to the correct list\n",
    "for x in result:\n",
    "    if x[0] == 'Year':\n",
    "        sYear.append(x[1])\n",
    "    elif x[0] == 'Team':\n",
    "        sTeam.append(x[1])\n",
    "    elif x[0] == 'GP':\n",
    "        sGP.append(x[1])\n",
    "    elif x[0] == 'GS':\n",
    "        sGS.append(x[1])\n",
    "    elif x[0] == 'MPG':\n",
    "        sMPG.append(x[1])\n",
    "    elif x[0] == 'FG%':\n",
    "        sFG.append(x[1])\n",
    "    elif x[0] == '3P%':\n",
    "        s3P.append(x[1])\n",
    "    elif x[0] == 'FT%':\n",
    "        sFT.append(x[1])\n",
    "    elif x[0] == 'RPG':\n",
    "        sRPG.append(x[1])\n",
    "    elif x[0] == 'APG':\n",
    "        sAPG.append(x[1])\n",
    "    elif x[0] == 'SPG':\n",
    "        sSPG.append(x[1])\n",
    "    elif x[0] == 'BPG':\n",
    "        sBPG.append(x[1])\n",
    "    elif x[0] == 'PPG':\n",
    "        sPPG.append(x[1])"
   ]
  },
  {
   "cell_type": "code",
   "execution_count": 14,
   "metadata": {},
   "outputs": [],
   "source": [
    "# Now that the stats are in the correct \n",
    "# list create the dataframe\n",
    "df1 = pd.DataFrame(list(zip(sYear,sTeam,sGP,sGS,sMPG,sFG,s3P,sFT,sRPG,sAPG,sSPG,sBPG,sPPG)), \n",
    "                   columns =['Year', 'Team', 'GP','GS','MPG','FG%','3P%','FT%','RPG','APG','SPG','BPG','PPG']) "
   ]
  },
  {
   "cell_type": "code",
   "execution_count": 15,
   "metadata": {},
   "outputs": [
    {
     "data": {
      "text/html": [
       "<div>\n",
       "<style scoped>\n",
       "    .dataframe tbody tr th:only-of-type {\n",
       "        vertical-align: middle;\n",
       "    }\n",
       "\n",
       "    .dataframe tbody tr th {\n",
       "        vertical-align: top;\n",
       "    }\n",
       "\n",
       "    .dataframe thead th {\n",
       "        text-align: right;\n",
       "    }\n",
       "</style>\n",
       "<table border=\"1\" class=\"dataframe\">\n",
       "  <thead>\n",
       "    <tr style=\"text-align: right;\">\n",
       "      <th></th>\n",
       "      <th>Year</th>\n",
       "      <th>Team</th>\n",
       "      <th>GP</th>\n",
       "      <th>GS</th>\n",
       "      <th>MPG</th>\n",
       "      <th>FG%</th>\n",
       "      <th>3P%</th>\n",
       "      <th>FT%</th>\n",
       "      <th>RPG</th>\n",
       "      <th>APG</th>\n",
       "      <th>SPG</th>\n",
       "      <th>BPG</th>\n",
       "      <th>PPG</th>\n",
       "    </tr>\n",
       "  </thead>\n",
       "  <tbody>\n",
       "    <tr>\n",
       "      <th>0</th>\n",
       "      <td>1984–85</td>\n",
       "      <td>Chicago</td>\n",
       "      <td>82</td>\n",
       "      <td>82</td>\n",
       "      <td>38.3</td>\n",
       "      <td>.515</td>\n",
       "      <td>.173</td>\n",
       "      <td>.845</td>\n",
       "      <td>6.5</td>\n",
       "      <td>5.9</td>\n",
       "      <td>2.4</td>\n",
       "      <td>.8</td>\n",
       "      <td>28.2</td>\n",
       "    </tr>\n",
       "    <tr>\n",
       "      <th>1</th>\n",
       "      <td>1985–86</td>\n",
       "      <td>Chicago</td>\n",
       "      <td>18</td>\n",
       "      <td>7</td>\n",
       "      <td>25.1</td>\n",
       "      <td>.457</td>\n",
       "      <td>.167</td>\n",
       "      <td>.840</td>\n",
       "      <td>3.6</td>\n",
       "      <td>2.9</td>\n",
       "      <td>2.1</td>\n",
       "      <td>1.2</td>\n",
       "      <td>22.7</td>\n",
       "    </tr>\n",
       "    <tr>\n",
       "      <th>2</th>\n",
       "      <td>1986–87</td>\n",
       "      <td>Chicago</td>\n",
       "      <td>82</td>\n",
       "      <td>82</td>\n",
       "      <td>40.0</td>\n",
       "      <td>.482</td>\n",
       "      <td>.182</td>\n",
       "      <td>.857</td>\n",
       "      <td>5.2</td>\n",
       "      <td>4.6</td>\n",
       "      <td>2.9</td>\n",
       "      <td>1.5</td>\n",
       "      <td>37.1*</td>\n",
       "    </tr>\n",
       "    <tr>\n",
       "      <th>3</th>\n",
       "      <td>1987–88</td>\n",
       "      <td>Chicago</td>\n",
       "      <td>82</td>\n",
       "      <td>82</td>\n",
       "      <td>40.4*</td>\n",
       "      <td>.535</td>\n",
       "      <td>.132</td>\n",
       "      <td>.841</td>\n",
       "      <td>5.5</td>\n",
       "      <td>5.9</td>\n",
       "      <td>3.2*</td>\n",
       "      <td>1.6</td>\n",
       "      <td>35.0*</td>\n",
       "    </tr>\n",
       "    <tr>\n",
       "      <th>4</th>\n",
       "      <td>1988–89</td>\n",
       "      <td>Chicago</td>\n",
       "      <td>81</td>\n",
       "      <td>81</td>\n",
       "      <td>40.2*</td>\n",
       "      <td>.538</td>\n",
       "      <td>.276</td>\n",
       "      <td>.850</td>\n",
       "      <td>8.0</td>\n",
       "      <td>8.0</td>\n",
       "      <td>2.9</td>\n",
       "      <td>.8</td>\n",
       "      <td>32.5*</td>\n",
       "    </tr>\n",
       "    <tr>\n",
       "      <th>5</th>\n",
       "      <td>1989–90</td>\n",
       "      <td>Chicago</td>\n",
       "      <td>82</td>\n",
       "      <td>82</td>\n",
       "      <td>39.0</td>\n",
       "      <td>.526</td>\n",
       "      <td>.376</td>\n",
       "      <td>.848</td>\n",
       "      <td>6.9</td>\n",
       "      <td>6.3</td>\n",
       "      <td>2.8*</td>\n",
       "      <td>.7</td>\n",
       "      <td>33.6*</td>\n",
       "    </tr>\n",
       "    <tr>\n",
       "      <th>6</th>\n",
       "      <td>1990–91†</td>\n",
       "      <td>Chicago</td>\n",
       "      <td>82</td>\n",
       "      <td>82</td>\n",
       "      <td>37.0</td>\n",
       "      <td>.539</td>\n",
       "      <td>.312</td>\n",
       "      <td>.851</td>\n",
       "      <td>6.0</td>\n",
       "      <td>5.5</td>\n",
       "      <td>2.7</td>\n",
       "      <td>1.0</td>\n",
       "      <td>31.5*</td>\n",
       "    </tr>\n",
       "    <tr>\n",
       "      <th>7</th>\n",
       "      <td>1991–92†</td>\n",
       "      <td>Chicago</td>\n",
       "      <td>80</td>\n",
       "      <td>80</td>\n",
       "      <td>38.8</td>\n",
       "      <td>.519</td>\n",
       "      <td>.270</td>\n",
       "      <td>.832</td>\n",
       "      <td>6.4</td>\n",
       "      <td>6.1</td>\n",
       "      <td>2.3</td>\n",
       "      <td>.9</td>\n",
       "      <td>30.1*</td>\n",
       "    </tr>\n",
       "    <tr>\n",
       "      <th>8</th>\n",
       "      <td>1992–93†</td>\n",
       "      <td>Chicago</td>\n",
       "      <td>78</td>\n",
       "      <td>78</td>\n",
       "      <td>39.3</td>\n",
       "      <td>.495</td>\n",
       "      <td>.352</td>\n",
       "      <td>.837</td>\n",
       "      <td>6.7</td>\n",
       "      <td>5.5</td>\n",
       "      <td>2.8*</td>\n",
       "      <td>.8</td>\n",
       "      <td>32.6*</td>\n",
       "    </tr>\n",
       "    <tr>\n",
       "      <th>9</th>\n",
       "      <td>1994–95</td>\n",
       "      <td>Chicago</td>\n",
       "      <td>17</td>\n",
       "      <td>17</td>\n",
       "      <td>39.3</td>\n",
       "      <td>.411</td>\n",
       "      <td>.500</td>\n",
       "      <td>.801</td>\n",
       "      <td>6.9</td>\n",
       "      <td>5.3</td>\n",
       "      <td>1.8</td>\n",
       "      <td>.8</td>\n",
       "      <td>26.9</td>\n",
       "    </tr>\n",
       "    <tr>\n",
       "      <th>10</th>\n",
       "      <td>1995–96†</td>\n",
       "      <td>Chicago</td>\n",
       "      <td>82</td>\n",
       "      <td>82</td>\n",
       "      <td>37.7</td>\n",
       "      <td>.495</td>\n",
       "      <td>.427</td>\n",
       "      <td>.834</td>\n",
       "      <td>6.6</td>\n",
       "      <td>4.3</td>\n",
       "      <td>2.2</td>\n",
       "      <td>.5</td>\n",
       "      <td>30.4*</td>\n",
       "    </tr>\n",
       "    <tr>\n",
       "      <th>11</th>\n",
       "      <td>1996–97†</td>\n",
       "      <td>Chicago</td>\n",
       "      <td>82</td>\n",
       "      <td>82</td>\n",
       "      <td>37.9</td>\n",
       "      <td>.486</td>\n",
       "      <td>.374</td>\n",
       "      <td>.833</td>\n",
       "      <td>5.9</td>\n",
       "      <td>4.3</td>\n",
       "      <td>1.7</td>\n",
       "      <td>.5</td>\n",
       "      <td>29.6*</td>\n",
       "    </tr>\n",
       "    <tr>\n",
       "      <th>12</th>\n",
       "      <td>1997–98†</td>\n",
       "      <td>Chicago</td>\n",
       "      <td>82</td>\n",
       "      <td>82</td>\n",
       "      <td>38.8</td>\n",
       "      <td>.465</td>\n",
       "      <td>.238</td>\n",
       "      <td>.784</td>\n",
       "      <td>5.8</td>\n",
       "      <td>3.5</td>\n",
       "      <td>1.7</td>\n",
       "      <td>.5</td>\n",
       "      <td>28.7*</td>\n",
       "    </tr>\n",
       "    <tr>\n",
       "      <th>13</th>\n",
       "      <td>2001–02</td>\n",
       "      <td>Washington</td>\n",
       "      <td>60</td>\n",
       "      <td>53</td>\n",
       "      <td>34.9</td>\n",
       "      <td>.416</td>\n",
       "      <td>.189</td>\n",
       "      <td>.790</td>\n",
       "      <td>5.7</td>\n",
       "      <td>5.2</td>\n",
       "      <td>1.4</td>\n",
       "      <td>.4</td>\n",
       "      <td>22.9</td>\n",
       "    </tr>\n",
       "    <tr>\n",
       "      <th>14</th>\n",
       "      <td>2002–03</td>\n",
       "      <td>Washington</td>\n",
       "      <td>82</td>\n",
       "      <td>67</td>\n",
       "      <td>37.0</td>\n",
       "      <td>.445</td>\n",
       "      <td>.291</td>\n",
       "      <td>.821</td>\n",
       "      <td>6.1</td>\n",
       "      <td>3.8</td>\n",
       "      <td>1.5</td>\n",
       "      <td>.5</td>\n",
       "      <td>20.0</td>\n",
       "    </tr>\n",
       "  </tbody>\n",
       "</table>\n",
       "</div>"
      ],
      "text/plain": [
       "        Year        Team  GP  GS    MPG   FG%   3P%   FT%  RPG  APG   SPG  \\\n",
       "0    1984–85     Chicago  82  82   38.3  .515  .173  .845  6.5  5.9   2.4   \n",
       "1    1985–86     Chicago  18   7   25.1  .457  .167  .840  3.6  2.9   2.1   \n",
       "2    1986–87     Chicago  82  82   40.0  .482  .182  .857  5.2  4.6   2.9   \n",
       "3    1987–88     Chicago  82  82  40.4*  .535  .132  .841  5.5  5.9  3.2*   \n",
       "4    1988–89     Chicago  81  81  40.2*  .538  .276  .850  8.0  8.0   2.9   \n",
       "5    1989–90     Chicago  82  82   39.0  .526  .376  .848  6.9  6.3  2.8*   \n",
       "6   1990–91†     Chicago  82  82   37.0  .539  .312  .851  6.0  5.5   2.7   \n",
       "7   1991–92†     Chicago  80  80   38.8  .519  .270  .832  6.4  6.1   2.3   \n",
       "8   1992–93†     Chicago  78  78   39.3  .495  .352  .837  6.7  5.5  2.8*   \n",
       "9    1994–95     Chicago  17  17   39.3  .411  .500  .801  6.9  5.3   1.8   \n",
       "10  1995–96†     Chicago  82  82   37.7  .495  .427  .834  6.6  4.3   2.2   \n",
       "11  1996–97†     Chicago  82  82   37.9  .486  .374  .833  5.9  4.3   1.7   \n",
       "12  1997–98†     Chicago  82  82   38.8  .465  .238  .784  5.8  3.5   1.7   \n",
       "13   2001–02  Washington  60  53   34.9  .416  .189  .790  5.7  5.2   1.4   \n",
       "14   2002–03  Washington  82  67   37.0  .445  .291  .821  6.1  3.8   1.5   \n",
       "\n",
       "    BPG    PPG  \n",
       "0    .8   28.2  \n",
       "1   1.2   22.7  \n",
       "2   1.5  37.1*  \n",
       "3   1.6  35.0*  \n",
       "4    .8  32.5*  \n",
       "5    .7  33.6*  \n",
       "6   1.0  31.5*  \n",
       "7    .9  30.1*  \n",
       "8    .8  32.6*  \n",
       "9    .8   26.9  \n",
       "10   .5  30.4*  \n",
       "11   .5  29.6*  \n",
       "12   .5  28.7*  \n",
       "13   .4   22.9  \n",
       "14   .5   20.0  "
      ]
     },
     "execution_count": 15,
     "metadata": {},
     "output_type": "execute_result"
    }
   ],
   "source": [
    "# All the successfully scraped from the website and now sits in this dataframe\n",
    "df1"
   ]
  },
  {
   "cell_type": "code",
   "execution_count": null,
   "metadata": {},
   "outputs": [],
   "source": [
    "# Repeat the same for the playoff numbers"
   ]
  },
  {
   "cell_type": "code",
   "execution_count": null,
   "metadata": {},
   "outputs": [],
   "source": [
    "# Upload in SQLite\n",
    "# If play is in db do nothing\n",
    "# Else upload data"
   ]
  },
  {
   "cell_type": "code",
   "execution_count": null,
   "metadata": {},
   "outputs": [],
   "source": [
    "# Create visualizations in matplotlib"
   ]
  }
 ],
 "metadata": {
  "kernelspec": {
   "display_name": "Python 3",
   "language": "python",
   "name": "python3"
  },
  "language_info": {
   "codemirror_mode": {
    "name": "ipython",
    "version": 3
   },
   "file_extension": ".py",
   "mimetype": "text/x-python",
   "name": "python",
   "nbconvert_exporter": "python",
   "pygments_lexer": "ipython3",
   "version": "3.7.3"
  }
 },
 "nbformat": 4,
 "nbformat_minor": 2
}
